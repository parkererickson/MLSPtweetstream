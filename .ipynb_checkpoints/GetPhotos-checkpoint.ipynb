{
 "cells": [
  {
   "cell_type": "code",
   "execution_count": null,
   "metadata": {
    "scrolled": true
   },
   "outputs": [],
   "source": [
    "from twitter import Api\n",
    "import wget\n",
    "import json"
   ]
  },
  {
   "cell_type": "code",
   "execution_count": null,
   "metadata": {},
   "outputs": [],
   "source": [
    "api = Api(consumer_key = 'TrNVwxSNw6Tb86rWIz6iGYWsF',\n",
    "                  consumer_secret = 'J7aOjcu4ZjC0r2HwlAab7OsWYBiWnhsrGQFPYijCt1rkJQdawD',\n",
    "                  access_token_key = '1001202094538416130-lErnat5xQ3EOlFuOPgOlg17dubEB1y',\n",
    "                  access_token_secret = '8uWL9Iaezo3q20RQCEiRSJGDHIaO9C8NWZk7Bt2oNSFAN')\n",
    "    "
   ]
  },
  {
   "cell_type": "code",
   "execution_count": null,
   "metadata": {
    "scrolled": true
   },
   "outputs": [],
   "source": [
    "USERS = ['@aiphotostyles']\n"
   ]
  },
  {
   "cell_type": "code",
   "execution_count": null,
   "metadata": {
    "scrolled": false
   },
   "outputs": [],
   "source": [
    "for line in api.GetStreamFilter(track=USERS):\n",
    "    tweet = line\n",
    "    media = tweet.get('extended_entities', {}).get('media', [])\n",
    "    if (len(media) == 0):\n",
    "        pass\n",
    "    else:\n",
    "        pic = [item['media_url'] for item in media]\n",
    "        print pic[0]"
   ]
  },
  {
   "cell_type": "code",
   "execution_count": null,
   "metadata": {},
   "outputs": [],
   "source": []
  },
  {
   "cell_type": "code",
   "execution_count": null,
   "metadata": {},
   "outputs": [],
   "source": []
  }
 ],
 "metadata": {
  "kernelspec": {
   "display_name": "Python 2",
   "language": "python",
   "name": "python2"
  },
  "language_info": {
   "codemirror_mode": {
    "name": "ipython",
    "version": 2
   },
   "file_extension": ".py",
   "mimetype": "text/x-python",
   "name": "python",
   "nbconvert_exporter": "python",
   "pygments_lexer": "ipython2",
   "version": "2.7.12"
  }
 },
 "nbformat": 4,
 "nbformat_minor": 2
}
