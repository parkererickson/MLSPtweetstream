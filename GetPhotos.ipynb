{
 "cells": [
  {
   "cell_type": "code",
   "execution_count": 1,
   "metadata": {
    "scrolled": true
   },
   "outputs": [],
   "source": [
    "from twitter import Api\n",
    "import config\n",
    "import wget\n",
    "import json\n",
    "import pymysql"
   ]
  },
  {
   "cell_type": "code",
   "execution_count": 2,
   "metadata": {},
   "outputs": [],
   "source": [
    "api = Api(config.consumer_key,\n",
    "          config.consumer_secret,\n",
    "          config.access_token_key,\n",
    "          config.access_token_secret)\n",
    "    "
   ]
  },
  {
   "cell_type": "code",
   "execution_count": 3,
   "metadata": {},
   "outputs": [],
   "source": [
    "rds_host  = config.db_endpoint\n",
    "name = config.db_username\n",
    "password = config.db_password\n",
    "db_name = config.db_name\n",
    "port = 3306"
   ]
  },
  {
   "cell_type": "code",
   "execution_count": 4,
   "metadata": {},
   "outputs": [],
   "source": [
    "conn = pymysql.connect(rds_host, user=name,\n",
    "                           passwd=password, db=db_name, connect_timeout=5)"
   ]
  },
  {
   "cell_type": "code",
   "execution_count": 5,
   "metadata": {
    "scrolled": true
   },
   "outputs": [],
   "source": [
    "USERS = ['@mlstylephoto']\n"
   ]
  },
  {
   "cell_type": "code",
   "execution_count": null,
   "metadata": {
    "scrolled": false
   },
   "outputs": [
    {
     "name": "stdout",
     "output_type": "stream",
     "text": [
      "1011000077362581504\n",
      "1011000339284353027\n",
      "1011000424265109505\n",
      "1011005567203270656\n",
      "1011006272156655618\n",
      "1011006638600450048\n"
     ]
    }
   ],
   "source": [
    "\n",
    "for line in api.GetStreamFilter(track=USERS):\n",
    "    tweet = line\n",
    "    media = tweet.get('extended_entities', {}).get('media', [])\n",
    "    user = tweet.get('user', {}).get('screen_name', [])\n",
    "    time = str(tweet.get('created_at'))\n",
    "    tweet_id = tweet.get('id')\n",
    "    complete = 0\n",
    "    print(tweet_id)\n",
    "    if (len(media) == 0):\n",
    "        pass\n",
    "    else:\n",
    "        pic = [item['media_url'] for item in media]\n",
    "        url_1 = str(pic[0].encode(\"utf-8\"))\n",
    "        url_2 = str(pic[1].encode(\"utf-8\"))\n",
    "        with conn.cursor() as cur:\n",
    "            cur.execute('insert into Queue (Time, Picture, StylePic, Username, Tweet_ID, Complete) values(\"'+time+'\",\"'+url_1+'\",\"'+url_2+'\",\"'+str(user)+'\",\"'+str(tweet_id)+'\",\"'+str(complete)+'\")')\n",
    "            conn.commit()"
   ]
  },
  {
   "cell_type": "code",
   "execution_count": null,
   "metadata": {},
   "outputs": [],
   "source": []
  },
  {
   "cell_type": "code",
   "execution_count": null,
   "metadata": {},
   "outputs": [],
   "source": []
  }
 ],
 "metadata": {
  "kernelspec": {
   "display_name": "Python 2",
   "language": "python",
   "name": "python2"
  },
  "language_info": {
   "codemirror_mode": {
    "name": "ipython",
    "version": 2
   },
   "file_extension": ".py",
   "mimetype": "text/x-python",
   "name": "python",
   "nbconvert_exporter": "python",
   "pygments_lexer": "ipython2",
   "version": "2.7.12"
  }
 },
 "nbformat": 4,
 "nbformat_minor": 2
}
